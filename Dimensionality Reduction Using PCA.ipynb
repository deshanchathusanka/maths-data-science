{
 "cells": [
  {
   "cell_type": "markdown",
   "id": "b6ef05a1",
   "metadata": {},
   "source": []
  },
  {
   "attachments": {},
   "cell_type": "markdown",
   "id": "596a9337",
   "metadata": {},
   "source": [
    "## Principal Component Analysis(PCA)\n",
    "\n",
    "Principal Componant Analysis is a mathematical concept and it is used to reduce the dimension of original feature space in machine learning.In this process, original high dimensional feature space is transformed(rotated) to new feature space called eigen space.\n",
    "\n",
    "$ \n",
    "Number\\ of\\ samples = m \\\\ \n",
    "Original\\ dimension\\ = n \\\\~\\\\\n",
    "\\color{red} {Original\\ feature\\ space\\ = (X)_{m\\times n}} \\\\\n",
    "\\color{red} {Var(X)=C=\\frac {X^TX}{n}}\\\\\n",
    "\\color{blue}{\n",
    "One\\ of\\ principal\\ component\\ = (w)_{n\\times 1}\\ where\\ w^Tw=I\\ \\\\~\\\\\n",
    "}\n",
    "Projection\\ of\\ X\\ on\\ w\\ = (Xw)_{m\\times 1} \\\\\n",
    "Coordinates\\ of\\ the\\ projection\\ in\\ original\\ feature\\ space = (Xw)_{m\\times 1} (w^T)_{1\\times n}=(Xww^T)_{m\\times n} \\\\~\\\\\n",
    "\\color{blue}{\n",
    "L = ||X_{m\\times n}-(Xww^T)_{m\\times n}||\\\\\n",
    "Var(Xw)=\\frac {{(Xw)_{m\\times 1}}^T(Xw)_{m\\times 1}}{n}=\\frac {w^TX^TXw}{n}=w^TCw \\\\~\\\\\n",
    "Max[Var(Xw)]\\ under\\ w^Tw=I\\ \\\\\n",
    "}\n",
    "Define\\ g(w)=Var(Xw)-\\lambda (w^Tw - I)\\\\\n",
    "g(w)=w^TCw-\\lambda (w^Tw - I)\\\\\n",
    "\\frac{\\partial g(w)}{\\partial w}=2Cw-2kw+0=2(Cw-kw)=0\\\\\n",
    "\\color{blue}{\n",
    "Cw=kw\\\\\n",
    "w\\ is\\ an\\ eigen\\ vector\\ of\\ covariance\\ matrix\\\\~\\\\\n",
    "}\n",
    "Select\\ p\\ eigen\\ vectors\\ with\\ highest\\ eigen\\ values.\\\\\n",
    "Eigen vectors,V=V_{n\\times p}\\\\\n",
    "Eigen values,\\Lambda=\\Lambda_{1\\times p}\\\\\n",
    "\\color{red} {Transformed\\ feature\\ space,X_T = X_{m\\times n}V_{n\\times p}=(XV)_{m\\times p}}\\\\\n",
    "\\color{red} {\n",
    "Var(X_T)=C_T=\\frac {(XV)^T(XV)}{n}=\\frac {V^TX^TXV}{n}=V^TCV\n",
    "=\n",
    "{\\begin{bmatrix}\n",
    "    {\\lambda}_{1} & 0 & 0 & \\dots  & 0 \\\\\n",
    "    0 & {\\lambda}_{2} & 0 & \\dots  & 0 \\\\\n",
    "    \\vdots & \\vdots & \\vdots & \\ddots & \\vdots \\\\\n",
    "    0 & 0 & 0 & \\dots  & {\\lambda}_{p}\n",
    "\\end{bmatrix}}_{p\\times p}\n",
    "=\\Lambda\\\\~\\\\\n",
    "\\textit{No covariance in the transformed feature space(Independent orthogonal features)}\n",
    "}\n",
    "$\n",
    "\n"
   ]
  },
  {
   "cell_type": "code",
   "execution_count": 17,
   "id": "e853c4ab",
   "metadata": {},
   "outputs": [],
   "source": [
    "import numpy as np\n",
    "import matplotlib.pyplot as plt\n",
    "from numpy import linalg as la"
   ]
  },
  {
   "cell_type": "code",
   "execution_count": 62,
   "id": "a3340c43",
   "metadata": {},
   "outputs": [
    {
     "name": "stdout",
     "output_type": "stream",
     "text": [
      "Original feature space(m by n) :\n",
      "[[0 1]\n",
      " [1 1]\n",
      " [1 0]]\n",
      "\n",
      "Original Covariance Matrix(n by n) :\n",
      "[[1.  0.5]\n",
      " [0.5 1. ]]\n",
      "\n",
      "Trace of original covariance matrix :\n",
      "2.0\n",
      "\n",
      "Eigen values of Original Covariance Matrix :\n",
      "[1.5 0.5]\n",
      "\n",
      "Eigen vectors of Original Covariance Matrix :\n",
      "[[ 0.707 -0.707]\n",
      " [ 0.707  0.707]]\n",
      "\n",
      "Transformed Feature Space(m by p) :\n",
      "[[ 0.707  0.707]\n",
      " [ 1.414  0.   ]\n",
      " [ 0.707 -0.707]]\n",
      "\n",
      "Transformed Covariance Matrix(p by p) : \n",
      "[[ 1.5 -0. ]\n",
      " [-0.   0.5]]\n",
      "\n",
      "Trace of transformed covariance matrix : \n",
      "2.0\n",
      "\n"
     ]
    },
    {
     "data": {
      "image/png": "[encoded data removed]",
      "text/plain": [
       "<Figure size 432x288 with 1 Axes>"
      ]
     },
     "metadata": {
      "needs_background": "light"
     },
     "output_type": "display_data"
    }
   ],
   "source": [
    "# Original feature matrix\n",
    "# Rows(m) : data points\n",
    "# Columns(n) : Features\n",
    "# Shape = m by n\n",
    "X = np.array([[0,1],\n",
    "              [1,1],\n",
    "              [1,0]])\n",
    "print(f'Original feature space(m by n) :\\n{X}\\n')\n",
    "\n",
    "# Original Dimension : 2\n",
    "n = X.shape[1]\n",
    "\n",
    "# Number of data points : 3\n",
    "m = X.shape[0]\n",
    "\n",
    "# Original covariance matrix\n",
    "C = np.dot(np.transpose(X), X)/n\n",
    "\n",
    "print(f'Original Covariance Matrix(n by n) :\\n{C}\\n')\n",
    "print(f'Trace of original covariance matrix :\\n{np.trace(C)}\\n')\n",
    "\n",
    "# Eigen values and eigen vectors of the original covariance matrix\n",
    "lamda, V = la.eig(C)\n",
    "V = np.round(V, 3)\n",
    "\n",
    "# Retrieve eigen vectors from column >> Pricipal axis\n",
    "v_1 = V[:,0] \n",
    "v_2 = V[:,1]\n",
    "\n",
    "# Retrieve eigen values\n",
    "lamda_1 = lamda[0]\n",
    "lamda_2 = lamda[1]\n",
    "\n",
    "print(f'Eigen values of Original Covariance Matrix :\\n{lamda}\\n')\n",
    "print(f'Eigen vectors of Original Covariance Matrix :\\n{V}\\n')\n",
    "\n",
    "\n",
    "\"\"\"Projection on principal axis\"\"\"\n",
    "# Shape = m by p (p: number of selected principal components or eigen vectors)\n",
    "X_transformed = np.dot(X, V) \n",
    "print(f'Transformed Feature Space(m by p) :\\n{X_transformed}\\n')\n",
    "C_transformed = np.round(np.dot(np.transpose(X_transformed), X_transformed)/n, 3)\n",
    "print(f'Transformed Covariance Matrix(p by p) : \\n{C_transformed}\\n')\n",
    "print(f'Trace of transformed covariance matrix : \\n{np.trace(C_transformed)}\\n')\n",
    "\n",
    "\"\"\"Graphical representation\"\"\"\n",
    "plt.figure()\n",
    "plt.scatter(X[:, 0], X[:, 1])\n",
    "plt.xlim(-2,2)\n",
    "plt.ylim(-2,2)\n",
    "\n",
    "plt.grid()\n",
    "plt.show()\n"
   ]
  }
 ],
 "metadata": {
  "kernelspec": {
   "display_name": "Python 3 (ipykernel)",
   "language": "python",
   "name": "python3"
  },
  "language_info": {
   "codemirror_mode": {
    "name": "ipython",
    "version": 3
   },
   "file_extension": ".py",
   "mimetype": "text/x-python",
   "name": "python",
   "nbconvert_exporter": "python",
   "pygments_lexer": "ipython3",
   "version": "3.8.10"
  }
 },
 "nbformat": 4,
 "nbformat_minor": 5
}
